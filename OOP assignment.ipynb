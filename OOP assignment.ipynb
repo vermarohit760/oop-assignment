{
 "cells": [
  {
   "cell_type": "code",
   "execution_count": 11,
   "id": "5b07a01b",
   "metadata": {},
   "outputs": [
    {
     "name": "stdout",
     "output_type": "stream",
     "text": [
      "enter the x of pow(x,n) function :- \n",
      "20\n",
      "enter the n of pow(x,n) function :- \n",
      "3\n",
      "8000\n"
     ]
    }
   ],
   "source": [
    "'''Write a Python class to implement pow(x, n)'''\n",
    "class power:\n",
    "    def __init__ (self,x,n):\n",
    "        self.number=x\n",
    "        self.raised_to_power=n\n",
    "        \n",
    "    def power_function(self,final_number=1):\n",
    "        for i in range(self.raised_to_power):\n",
    "            final_number=final_number*self.number\n",
    "        return final_number\n",
    "print('enter the x of pow(x,n) function :- ')\n",
    "a= int(input())\n",
    "print('enter the n of pow(x,n) function :- ')\n",
    "b=int(input())\n",
    "obj=power(a,b)\n",
    "print(obj.power_function())\n",
    "    "
   ]
  },
  {
   "cell_type": "code",
   "execution_count": null,
   "id": "49044b8b",
   "metadata": {},
   "outputs": [],
   "source": []
  }
 ],
 "metadata": {
  "kernelspec": {
   "display_name": "Python 3 (ipykernel)",
   "language": "python",
   "name": "python3"
  },
  "language_info": {
   "codemirror_mode": {
    "name": "ipython",
    "version": 3
   },
   "file_extension": ".py",
   "mimetype": "text/x-python",
   "name": "python",
   "nbconvert_exporter": "python",
   "pygments_lexer": "ipython3",
   "version": "3.9.6"
  }
 },
 "nbformat": 4,
 "nbformat_minor": 5
}
